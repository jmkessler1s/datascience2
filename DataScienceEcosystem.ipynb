{
 "cells": [
  {
   "cell_type": "markdown",
   "id": "ae06df34-6be9-4f6d-8553-7b10f91ccbfc",
   "metadata": {},
   "source": [
    "# Data Science Tools\n",
    "# Ecosystem"
   ]
  },
  {
   "cell_type": "markdown",
   "id": "850a9d45-89ac-422c-8ad7-97b380e036f7",
   "metadata": {},
   "source": [
    "In this notebook, Data Science Tools and Ecosystem are summarized."
   ]
  },
  {
   "cell_type": "markdown",
   "id": "9142f5d5-301f-4a7f-b947-72f411aac80f",
   "metadata": {},
   "source": [
    "**Objectives:**\n",
    "- List popular languages that Data Scientists use.\n",
    "- List common libraries used by Data Scientists.\n",
    "- Execute basic arimetic functions in python."
   ]
  },
  {
   "cell_type": "markdown",
   "id": "b0a42824-5c48-4ef9-a1e0-f8847b464b85",
   "metadata": {},
   "source": [
    "Some of the popular languages that Data Scientists use are:\n",
    "1. Python\n",
    "2. R\n",
    "3. SQL"
   ]
  },
  {
   "cell_type": "markdown",
   "id": "b53ee94d-9968-4b21-a71d-6421f7c7fa98",
   "metadata": {},
   "source": [
    "## Author\n",
    "Jonathan M. Kessler"
   ]
  },
  {
   "cell_type": "markdown",
   "id": "8c155c98-6e46-407e-97cd-5a4e1de53216",
   "metadata": {},
   "source": [
    "Some of the commonly used libraries used by Data Scientists include:\n",
    "1. pandas (python)\n",
    "2. Tensorflow (python)\n",
    "3. ggplot (R)\n",
    "4. numpy (python)\n",
    "5. scipy (python)"
   ]
  },
  {
   "cell_type": "markdown",
   "id": "72ecfa78-8f27-4777-8d9f-e0c17b4b1821",
   "metadata": {},
   "source": [
    "| Data Science Tools |\n",
    "|--|\n",
    "| Spyder |\n",
    "| Jupyter Notebook/Lab |\n",
    "| RStudio |\n",
    "| Visual Studio Code |"
   ]
  },
  {
   "cell_type": "markdown",
   "id": "ce986c9b-c803-41a3-8443-7416f04767ff",
   "metadata": {},
   "source": [
    "### Below are a few examples of evaluating arithmetic expressions in Python."
   ]
  },
  {
   "cell_type": "code",
   "execution_count": 16,
   "id": "109ce4df-a5b5-4cf7-9266-e5ab785875da",
   "metadata": {},
   "outputs": [
    {
     "data": {
      "text/plain": [
       "17"
      ]
     },
     "execution_count": 16,
     "metadata": {},
     "output_type": "execute_result"
    }
   ],
   "source": [
    "# This is a simple arithmetic expression to multiply then add intergers.\n",
    "(3*4)+5"
   ]
  },
  {
   "cell_type": "code",
   "execution_count": 18,
   "id": "481700b5-ab1d-4ade-aec9-c258ed6bc693",
   "metadata": {},
   "outputs": [
    {
     "data": {
      "text/plain": [
       "3.3333333333333335"
      ]
     },
     "execution_count": 18,
     "metadata": {},
     "output_type": "execute_result"
    }
   ],
   "source": [
    "# This will convert 200 minutes to hours by dividing by 60.\n",
    "def min2hrs(minutes):\n",
    "    hours = minutes/60\n",
    "    return hours\n",
    "\n",
    "min2hrs(200)"
   ]
  }
 ],
 "metadata": {
  "kernelspec": {
   "display_name": "Python [conda env:base] *",
   "language": "python",
   "name": "conda-base-py"
  },
  "language_info": {
   "codemirror_mode": {
    "name": "ipython",
    "version": 3
   },
   "file_extension": ".py",
   "mimetype": "text/x-python",
   "name": "python",
   "nbconvert_exporter": "python",
   "pygments_lexer": "ipython3",
   "version": "3.12.7"
  }
 },
 "nbformat": 4,
 "nbformat_minor": 5
}
